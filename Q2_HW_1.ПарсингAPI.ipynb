{
 "cells": [
  {
   "cell_type": "markdown",
   "metadata": {},
   "source": [
    "## 1. Посмотреть документацию к API GitHub, разобраться как вывести список репозиториев для конкретного пользователя, сохранить JSON-вывод в файле *.json. "
   ]
  },
  {
   "cell_type": "code",
   "execution_count": 307,
   "metadata": {},
   "outputs": [],
   "source": [
    "import requests\n",
    "from pprint import pprint\n",
    "import json"
   ]
  },
  {
   "cell_type": "code",
   "execution_count": 308,
   "metadata": {},
   "outputs": [],
   "source": [
    "url = 'https://api.github.com'\n",
    "user='JekaterinaMacer'"
   ]
  },
  {
   "cell_type": "code",
   "execution_count": 309,
   "metadata": {},
   "outputs": [],
   "source": [
    "r = requests.get(f'{url}/users/{user}/repos')"
   ]
  },
  {
   "cell_type": "code",
   "execution_count": 310,
   "metadata": {},
   "outputs": [],
   "source": [
    "with open('github.json', 'w') as f1:\n",
    "    json.dump(r.json(), f1)"
   ]
  },
  {
   "cell_type": "code",
   "execution_count": 311,
   "metadata": {},
   "outputs": [
    {
     "name": "stdout",
     "output_type": "stream",
     "text": [
      "The list of Repositories JekaterinaMacer: \n",
      "Data-Mining\n",
      "Data-Science-and-Machine-Learning\n",
      "Databases.MySQL\n",
      "English\n",
      "Mathematics\n",
      "Python\n"
     ]
    }
   ],
   "source": [
    "print(f\"The list of Repositories {user}: \")\n",
    "for i in r.json():\n",
    "    print(i['name'])"
   ]
  },
  {
   "cell_type": "markdown",
   "metadata": {},
   "source": [
    "## END"
   ]
  },
  {
   "cell_type": "markdown",
   "metadata": {},
   "source": [
    "## 2. Изучить список открытых API. Найти среди них любое, требующее авторизацию (любого типа). Выполнить запросы к нему, пройдя авторизацию. Ответ сервера записать в файл."
   ]
  },
  {
   "cell_type": "markdown",
   "metadata": {},
   "source": [
    "https://www.programmableweb.com/category/all/apis"
   ]
  },
  {
   "cell_type": "markdown",
   "metadata": {},
   "source": [
    "https://www.programmableweb.com/category/all/apis?keyword=open%20weather"
   ]
  },
  {
   "cell_type": "code",
   "execution_count": 312,
   "metadata": {},
   "outputs": [],
   "source": [
    "appid = '90fa493637245bdcd205418f6568975d'\n",
    "service_onecall = 'https://api.openweathermap.org/data/2.5/onecall'\n",
    "service = 'https://api.openweathermap.org/data/2.5/weather'\n",
    "#service = 'https://api.openweathermap.org/data/2.5/forecast'"
   ]
  },
  {
   "cell_type": "code",
   "execution_count": 313,
   "metadata": {},
   "outputs": [],
   "source": [
    "warsaw = {'q': 'Warsaw', 'appid': {appid}}\n",
    "london = {'q': 'London', 'appid': {appid}}\n",
    "paris = {'q': 'Paris', 'appid': {appid}}"
   ]
  },
  {
   "cell_type": "code",
   "execution_count": 314,
   "metadata": {},
   "outputs": [],
   "source": [
    "response = requests.get(service,params=warsaw)"
   ]
  },
  {
   "cell_type": "code",
   "execution_count": 315,
   "metadata": {},
   "outputs": [
    {
     "name": "stdout",
     "output_type": "stream",
     "text": [
      "<Response [200]>\n"
     ]
    }
   ],
   "source": [
    "print(response)"
   ]
  },
  {
   "cell_type": "code",
   "execution_count": 316,
   "metadata": {},
   "outputs": [
    {
     "name": "stdout",
     "output_type": "stream",
     "text": [
      "{'Server': 'openresty', 'Date': 'Wed, 11 Nov 2020 22:52:38 GMT', 'Content-Type': 'application/json; charset=utf-8', 'Content-Length': '466', 'Connection': 'keep-alive', 'X-Cache-Key': '/data/2.5/weather?q=warsaw', 'Access-Control-Allow-Origin': '*', 'Access-Control-Allow-Credentials': 'true', 'Access-Control-Allow-Methods': 'GET, POST'}\n"
     ]
    }
   ],
   "source": [
    "print(response.headers)"
   ]
  },
  {
   "cell_type": "code",
   "execution_count": 317,
   "metadata": {},
   "outputs": [
    {
     "name": "stdout",
     "output_type": "stream",
     "text": [
      "{\"coord\":{\"lon\":21.01,\"lat\":52.23},\"weather\":[{\"id\":803,\"main\":\"Clouds\",\"description\":\"broken clouds\",\"icon\":\"04n\"}],\"base\":\"stations\",\"main\":{\"temp\":279.37,\"feels_like\":276.46,\"temp_min\":278.71,\"temp_max\":280.93,\"pressure\":1028,\"humidity\":93},\"visibility\":8000,\"wind\":{\"speed\":2.6,\"deg\":150},\"clouds\":{\"all\":75},\"dt\":1605134745,\"sys\":{\"type\":1,\"id\":1713,\"country\":\"PL\",\"sunrise\":1605073807,\"sunset\":1605106204},\"timezone\":3600,\"id\":756135,\"name\":\"Warsaw\",\"cod\":200}\n"
     ]
    }
   ],
   "source": [
    "print(response.text)"
   ]
  },
  {
   "cell_type": "code",
   "execution_count": 318,
   "metadata": {},
   "outputs": [],
   "source": [
    "j_data = response.json()"
   ]
  },
  {
   "cell_type": "code",
   "execution_count": 319,
   "metadata": {},
   "outputs": [
    {
     "name": "stdout",
     "output_type": "stream",
     "text": [
      "{'coord': {'lon': 21.01, 'lat': 52.23}, 'weather': [{'id': 803, 'main': 'Clouds', 'description': 'broken clouds', 'icon': '04n'}], 'base': 'stations', 'main': {'temp': 279.37, 'feels_like': 276.46, 'temp_min': 278.71, 'temp_max': 280.93, 'pressure': 1028, 'humidity': 93}, 'visibility': 8000, 'wind': {'speed': 2.6, 'deg': 150}, 'clouds': {'all': 75}, 'dt': 1605134745, 'sys': {'type': 1, 'id': 1713, 'country': 'PL', 'sunrise': 1605073807, 'sunset': 1605106204}, 'timezone': 3600, 'id': 756135, 'name': 'Warsaw', 'cod': 200}\n"
     ]
    }
   ],
   "source": [
    "print(j_data)"
   ]
  },
  {
   "cell_type": "code",
   "execution_count": 320,
   "metadata": {},
   "outputs": [
    {
     "name": "stdout",
     "output_type": "stream",
     "text": [
      "In city Warsaw temperature 6 degrees Celsius\n"
     ]
    }
   ],
   "source": [
    "print(f\"In city {j_data['name']} temperature {round(j_data['main']['temp']-273.15)} degrees Celsius\")"
   ]
  },
  {
   "cell_type": "code",
   "execution_count": 321,
   "metadata": {},
   "outputs": [
    {
     "name": "stdout",
     "output_type": "stream",
     "text": [
      "In city America/Chicago temperature 20 degrees Celsius\n"
     ]
    }
   ],
   "source": [
    "response_onecall = requests.get(f'{service_onecall}?lat=33.441792&lon=-94.037689&exclude=1&appid={appid}')\n",
    "#pprint(response_onecall.text)\n",
    "onecall_data = response_onecall.json()\n",
    "print(f\"In city {onecall_data['timezone']} temperature {round(onecall_data['current']['temp']-273.15)} degrees Celsius\")"
   ]
  },
  {
   "cell_type": "code",
   "execution_count": 322,
   "metadata": {},
   "outputs": [],
   "source": [
    "with open('weather.json', 'w') as f2:\n",
    "    json.dump(response.json(), f2)"
   ]
  },
  {
   "cell_type": "markdown",
   "metadata": {},
   "source": [
    "## END"
   ]
  },
  {
   "cell_type": "code",
   "execution_count": null,
   "metadata": {},
   "outputs": [],
   "source": []
  }
 ],
 "metadata": {
  "kernelspec": {
   "display_name": "Python 3",
   "language": "python",
   "name": "python3"
  },
  "language_info": {
   "codemirror_mode": {
    "name": "ipython",
    "version": 3
   },
   "file_extension": ".py",
   "mimetype": "text/x-python",
   "name": "python",
   "nbconvert_exporter": "python",
   "pygments_lexer": "ipython3",
   "version": "3.8.3"
  }
 },
 "nbformat": 4,
 "nbformat_minor": 4
}
